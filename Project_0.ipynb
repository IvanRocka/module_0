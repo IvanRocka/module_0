{
 "cells": [
  {
   "cell_type": "code",
   "execution_count": 2,
   "metadata": {},
   "outputs": [
    {
     "name": "stdout",
     "output_type": "stream",
     "text": [
      "Задайте диапазон для генерирования случайных чисел:\n",
      "Нижняя граница:1\n",
      "Верхняя граница:100\n",
      "Вы задали диапазон: (1,101)\n",
      "Ваш алгоритм угадывает число в среднем за 10 попыток\n"
     ]
    },
    {
     "data": {
      "text/plain": [
       "10"
      ]
     },
     "execution_count": 2,
     "metadata": {},
     "output_type": "execute_result"
    }
   ],
   "source": [
    "\n",
    "import numpy as np\n",
    "print('Задайте диапазон для генерирования случайных чисел:')\n",
    "min_range = int(input('Нижняя граница:'))\n",
    "max_range = int(input('Верхняя граница:'))+1\n",
    "print('Вы задали диапазон: ' + '(' + str(min_range) + ',' + str(max_range) + ')')\n",
    "\n",
    "def game_core_v3(number):\n",
    "    count = 1\n",
    "    predict = np.random.randint(min_range,max_range)\n",
    "    medium_value = int((max_range - 1)/2)\n",
    "    \n",
    "    '''Подбираю наиболее близкий диапазон чисел к number '''\n",
    "    while number > medium_value: \n",
    "        predict = medium_value\n",
    "        medium_value += int((max_range - medium_value)/2)\n",
    "    while number < medium_value: \n",
    "        predict = medium_value\n",
    "        medium_value -= int((max_range - medium_value)/2)\n",
    "        \n",
    "    while number != predict:\n",
    "        count+=1\n",
    "        if number > predict:\n",
    "            predict += 1\n",
    "        elif number < predict:\n",
    "            predict -= 1\n",
    "    return(count) # выход из цикла, если угадали\n",
    "\n",
    "\n",
    "def score_game(game_core):\n",
    "    '''Запускаем игру 1000 раз, чтобы узнать, как быстро игра угадывает число'''\n",
    "    count_ls = []\n",
    "    np.random.seed(1) # фиксируем RANDOM SEED, чтобы ваш эксперимент был воспроизводим!\n",
    "    random_array = np.random.randint(min_range,max_range, size=(1000))\n",
    "    for number in random_array:\n",
    "        count_ls.append(game_core(number))\n",
    "    score = int(np.mean(count_ls))\n",
    "    print(f\"Ваш алгоритм угадывает число в среднем за {score} попыток\")\n",
    "    return(score)\n",
    "\n",
    "score_game(game_core_v3)"
   ]
  },
  {
   "cell_type": "code",
   "execution_count": null,
   "metadata": {},
   "outputs": [],
   "source": []
  }
 ],
 "metadata": {
  "kernelspec": {
   "display_name": "Python 3",
   "language": "python",
   "name": "python3"
  },
  "language_info": {
   "codemirror_mode": {
    "name": "ipython",
    "version": 3
   },
   "file_extension": ".py",
   "mimetype": "text/x-python",
   "name": "python",
   "nbconvert_exporter": "python",
   "pygments_lexer": "ipython3",
   "version": "3.7.6"
  }
 },
 "nbformat": 4,
 "nbformat_minor": 4
}
